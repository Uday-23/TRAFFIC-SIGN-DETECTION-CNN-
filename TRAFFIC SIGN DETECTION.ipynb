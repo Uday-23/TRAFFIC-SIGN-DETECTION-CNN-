{
 "cells": [
  {
   "cell_type": "code",
   "execution_count": 48,
   "id": "6f8bd782",
   "metadata": {},
   "outputs": [],
   "source": [
    "import os #helps us in importing files from the OS\n",
    "import cv2"
   ]
  },
  {
   "cell_type": "code",
   "execution_count": 49,
   "id": "e98bfa4b",
   "metadata": {},
   "outputs": [
    {
     "name": "stdout",
     "output_type": "stream",
     "text": [
      "In Folder 0\n",
      "In Folder 1\n",
      "In Folder 2\n",
      "In Folder 3\n",
      "In Folder 4\n",
      "In Folder 5\n",
      "In Folder 6\n",
      "In Folder 7\n",
      "In Folder 8\n",
      "In Folder 9\n",
      "In Folder 10\n",
      "In Folder 11\n",
      "In Folder 12\n",
      "In Folder 13\n",
      "In Folder 14\n",
      "In Folder 15\n",
      "In Folder 16\n",
      "In Folder 17\n",
      "In Folder 18\n",
      "In Folder 19\n",
      "In Folder 20\n",
      "In Folder 21\n",
      "In Folder 22\n",
      "In Folder 23\n",
      "In Folder 24\n",
      "In Folder 25\n",
      "In Folder 26\n",
      "In Folder 27\n",
      "In Folder 28\n",
      "In Folder 29\n",
      "In Folder 30\n",
      "In Folder 31\n",
      "In Folder 32\n",
      "In Folder 33\n",
      "In Folder 34\n",
      "In Folder 35\n",
      "In Folder 36\n",
      "In Folder 37\n",
      "In Folder 38\n",
      "In Folder 39\n",
      "In Folder 40\n",
      "In Folder 41\n",
      "In Folder 42\n"
     ]
    }
   ],
   "source": [
    "features=[]\n",
    "target=[]\n",
    "for x in range(0,43):   #43 is the number of files we want to import\n",
    "    ImagesNamesList=os.listdir(\"/home/udzi/myData\"+\"/\"+str(x))    #lists all the directories (file names)\n",
    "#we have taken x there which helps us in importing all the files at once \n",
    "    for y in ImagesNamesList:      #references file names\n",
    "        Imgarr=cv2.imread(\"/home/udzi/myData\"+\"/\"+str(x)+\"/\"+y)  #converts image to array\n",
    "        features.append(Imgarr)\n",
    "        target.append(x)\n",
    "    print(\"In Folder\",x)  "
   ]
  },
  {
   "cell_type": "code",
   "execution_count": 3,
   "id": "3dd3fc74",
   "metadata": {},
   "outputs": [],
   "source": [
    "import numpy as np   #converting features and targets to arrays"
   ]
  },
  {
   "cell_type": "code",
   "execution_count": 4,
   "id": "483861ca",
   "metadata": {},
   "outputs": [],
   "source": [
    "features=np.array(features)\n",
    "target=np.array(target)"
   ]
  },
  {
   "cell_type": "code",
   "execution_count": 5,
   "id": "554fd4aa",
   "metadata": {},
   "outputs": [
    {
     "data": {
      "text/plain": [
       "(34799, 32, 32, 3)"
      ]
     },
     "execution_count": 5,
     "metadata": {},
     "output_type": "execute_result"
    }
   ],
   "source": [
    "features.shape"
   ]
  },
  {
   "cell_type": "code",
   "execution_count": 6,
   "id": "5198d40e",
   "metadata": {},
   "outputs": [
    {
     "data": {
      "text/plain": [
       "(34799,)"
      ]
     },
     "execution_count": 6,
     "metadata": {},
     "output_type": "execute_result"
    }
   ],
   "source": [
    "target.shape"
   ]
  },
  {
   "cell_type": "code",
   "execution_count": 7,
   "id": "ea8cddb6",
   "metadata": {},
   "outputs": [],
   "source": [
    "from sklearn.model_selection import train_test_split     #step 2: splitting\n"
   ]
  },
  {
   "cell_type": "code",
   "execution_count": 8,
   "id": "fb10c5cc",
   "metadata": {},
   "outputs": [],
   "source": [
    "features_train,features_test,target_train,target_test=train_test_split(features,target,test_size=0.2)"
   ]
  },
  {
   "cell_type": "code",
   "execution_count": 9,
   "id": "63cdbaa3",
   "metadata": {},
   "outputs": [
    {
     "data": {
      "text/plain": [
       "(27839, 32, 32, 3)"
      ]
     },
     "execution_count": 9,
     "metadata": {},
     "output_type": "execute_result"
    }
   ],
   "source": [
    "features_train.shape"
   ]
  },
  {
   "cell_type": "code",
   "execution_count": 10,
   "id": "c1a85fd3",
   "metadata": {},
   "outputs": [
    {
     "data": {
      "text/plain": [
       "(27839,)"
      ]
     },
     "execution_count": 10,
     "metadata": {},
     "output_type": "execute_result"
    }
   ],
   "source": [
    "target_train.shape"
   ]
  },
  {
   "cell_type": "code",
   "execution_count": 11,
   "id": "1e7dcf0c",
   "metadata": {},
   "outputs": [
    {
     "data": {
      "text/plain": [
       "(6960, 32, 32, 3)"
      ]
     },
     "execution_count": 11,
     "metadata": {},
     "output_type": "execute_result"
    }
   ],
   "source": [
    "features_test.shape"
   ]
  },
  {
   "cell_type": "code",
   "execution_count": 12,
   "id": "c1debe6c",
   "metadata": {},
   "outputs": [
    {
     "data": {
      "text/plain": [
       "(6960,)"
      ]
     },
     "execution_count": 12,
     "metadata": {},
     "output_type": "execute_result"
    }
   ],
   "source": [
    "target_test.shape"
   ]
  },
  {
   "cell_type": "code",
   "execution_count": 13,
   "id": "51d96eee",
   "metadata": {},
   "outputs": [],
   "source": [
    "#the technique to generate new images in the training data by modifying the orignal images in the training data is called image augmentation "
   ]
  },
  {
   "cell_type": "code",
   "execution_count": 14,
   "id": "c04c220a",
   "metadata": {},
   "outputs": [],
   "source": [
    "def preprocessing(image):\n",
    "    image=cv2.cvtColor(image,cv2.COLOR_BGR2GRAY)        #converting colored image to black and white\n",
    "    image=image/255\n",
    "    return image"
   ]
  },
  {
   "cell_type": "code",
   "execution_count": 15,
   "id": "d953a726",
   "metadata": {},
   "outputs": [],
   "source": [
    "#map function(concise alternative for loops(for,while) )\n",
    "#syntax: map(function name,[(parameters)])\n"
   ]
  },
  {
   "cell_type": "code",
   "execution_count": 16,
   "id": "77f52e11",
   "metadata": {},
   "outputs": [],
   "source": [
    "features_train=np.array(list(map(preprocessing,features_train)))  #applying pre processing function on all images"
   ]
  },
  {
   "cell_type": "code",
   "execution_count": 17,
   "id": "4a1b3dea",
   "metadata": {},
   "outputs": [
    {
     "data": {
      "text/plain": [
       "(27839, 32, 32)"
      ]
     },
     "execution_count": 17,
     "metadata": {},
     "output_type": "execute_result"
    }
   ],
   "source": [
    "features_train.shape"
   ]
  },
  {
   "cell_type": "code",
   "execution_count": 18,
   "id": "cf660105",
   "metadata": {},
   "outputs": [],
   "source": [
    "features_train=features_train.reshape(27839,32,32,1)"
   ]
  },
  {
   "cell_type": "code",
   "execution_count": 19,
   "id": "2245f216",
   "metadata": {},
   "outputs": [],
   "source": [
    "from keras.preprocessing.image import ImageDataGenerator"
   ]
  },
  {
   "cell_type": "code",
   "execution_count": 20,
   "id": "d5722565",
   "metadata": {},
   "outputs": [],
   "source": [
    "dataGen=ImageDataGenerator(rotation_range=10,width_shift_range=0.1,height_shift_range=0.1,zoom_range=0.2,shear_range=0.1)"
   ]
  },
  {
   "cell_type": "code",
   "execution_count": 21,
   "id": "726d74b5",
   "metadata": {},
   "outputs": [],
   "source": [
    "dataGen.fit(features_train)"
   ]
  },
  {
   "cell_type": "code",
   "execution_count": 22,
   "id": "e1dad23d",
   "metadata": {},
   "outputs": [],
   "source": [
    "batches=dataGen.flow(features_train,target_train,batch_size=20)"
   ]
  },
  {
   "cell_type": "code",
   "execution_count": 23,
   "id": "fd305101",
   "metadata": {},
   "outputs": [
    {
     "data": {
      "text/plain": [
       "1392"
      ]
     },
     "execution_count": 23,
     "metadata": {},
     "output_type": "execute_result"
    }
   ],
   "source": [
    "len(batches)"
   ]
  },
  {
   "cell_type": "code",
   "execution_count": 24,
   "id": "bb0e374c",
   "metadata": {},
   "outputs": [],
   "source": [
    "#GENERATOR FUNCTIONS \n",
    "#normal function but in a normal function we use the return keyword to create a value in the global memory\n",
    "#but in a generator function, we need to use the yield function in the global memory  \n",
    "#return-creates a copy of the value in the global memory and it also stops the function execution at that time\n",
    "#yield-creates a copy of the value in the global memory and it pauses the function execution at that time"
   ]
  },
  {
   "cell_type": "code",
   "execution_count": 25,
   "id": "bfbe5716",
   "metadata": {},
   "outputs": [],
   "source": [
    "images,labels=next(batches)"
   ]
  },
  {
   "cell_type": "code",
   "execution_count": 26,
   "id": "672e0f0d",
   "metadata": {},
   "outputs": [
    {
     "data": {
      "text/plain": [
       "(20, 32, 32, 1)"
      ]
     },
     "execution_count": 26,
     "metadata": {},
     "output_type": "execute_result"
    }
   ],
   "source": [
    "images.shape"
   ]
  },
  {
   "cell_type": "code",
   "execution_count": 27,
   "id": "a20452d8",
   "metadata": {},
   "outputs": [],
   "source": [
    "import matplotlib.pyplot as plt"
   ]
  },
  {
   "cell_type": "code",
   "execution_count": 28,
   "id": "cc7f9725",
   "metadata": {},
   "outputs": [
    {
     "data": {
      "image/png": "[encoded data removed]",
      "text/plain": [
       "<Figure size 432x288 with 1 Axes>"
      ]
     },
     "metadata": {
      "needs_background": "light"
     },
     "output_type": "display_data"
    }
   ],
   "source": [
    "plt.imshow(images[0].reshape(32,32))\n",
    "plt.show()"
   ]
  },
  {
   "cell_type": "code",
   "execution_count": 29,
   "id": "f0e37196",
   "metadata": {},
   "outputs": [
    {
     "data": {
      "image/png": "[encoded data removed]",
      "text/plain": [
       "<Figure size 720x720 with 20 Axes>"
      ]
     },
     "metadata": {
      "needs_background": "light"
     },
     "output_type": "display_data"
    }
   ],
   "source": [
    "plt.figure(figsize=(10,10))\n",
    "for i in range(0,20):\n",
    "    plt.subplot(4,5,i+1)\n",
    "    plt.imshow(images[i].reshape(32,32))\n",
    "plt.show()"
   ]
  },
  {
   "cell_type": "code",
   "execution_count": 30,
   "id": "b97e1972",
   "metadata": {},
   "outputs": [],
   "source": [
    "from tensorflow.keras.utils import to_categorical"
   ]
  },
  {
   "cell_type": "code",
   "execution_count": 31,
   "id": "74ea7b4a",
   "metadata": {},
   "outputs": [],
   "source": [
    "target_train=to_categorical(target_train)"
   ]
  },
  {
   "cell_type": "code",
   "execution_count": 32,
   "id": "9ca670f1",
   "metadata": {},
   "outputs": [],
   "source": [
    "from keras.layers import Dense,Flatten,Conv2D,MaxPooling2D,Dropout\n",
    "from keras.models import Sequential"
   ]
  },
  {
   "cell_type": "code",
   "execution_count": 33,
   "id": "6c12f91a",
   "metadata": {},
   "outputs": [],
   "source": [
    "#ARCHITECTURE (STEP-1)\n",
    "model=Sequential()\n",
    "model.add(Conv2D(60,(3,3),activation=\"relu\",input_shape=(32,32,1)))\n",
    "model.add(Conv2D(60,(3,3),activation=\"relu\"))\n",
    "model.add(MaxPooling2D((2,2)))\n",
    "model.add(Conv2D(30,(3,3),activation=\"relu\"))\n",
    "model.add(Conv2D(30,(3,3),activation=\"relu\"))\n",
    "model.add(Conv2D(30,(3,3),activation=\"relu\"))\n",
    "model.add(MaxPooling2D((2,2)))\n",
    "model.add(Dropout(0.5))          #helps us to prevent over-fitting\n",
    "model.add(Flatten())\n",
    "model.add(Dense(500,activation=\"relu\"))\n",
    "model.add(Dense(43,activation=\"softmax\"))"
   ]
  },
  {
   "cell_type": "code",
   "execution_count": 34,
   "id": "49eab801",
   "metadata": {},
   "outputs": [],
   "source": [
    "from keras.optimizers import Adam"
   ]
  },
  {
   "cell_type": "code",
   "execution_count": 35,
   "id": "5578103a",
   "metadata": {},
   "outputs": [],
   "source": [
    "model.compile(Adam(learning_rate=0.001),loss=\"categorical_crossentropy\",metrics=[\"accuracy\"])"
   ]
  },
  {
   "cell_type": "code",
   "execution_count": 36,
   "id": "e5fa8517",
   "metadata": {},
   "outputs": [
    {
     "name": "stderr",
     "output_type": "stream",
     "text": [
      "/home/udzi/anaconda3/lib/python3.8/site-packages/keras/engine/training.py:1915: UserWarning: `Model.fit_generator` is deprecated and will be removed in a future version. Please use `Model.fit`, which supports generators.\n",
      "  warnings.warn('`Model.fit_generator` is deprecated and '\n"
     ]
    },
    {
     "name": "stdout",
     "output_type": "stream",
     "text": [
      "Epoch 1/25\n",
      "1392/1392 [==============================] - 118s 76ms/step - loss: 2.9410 - accuracy: 0.2007\n",
      "Epoch 2/25\n",
      "1392/1392 [==============================] - 102s 74ms/step - loss: 0.8767 - accuracy: 0.7333\n",
      "Epoch 3/25\n",
      "1392/1392 [==============================] - 99s 71ms/step - loss: 0.5142 - accuracy: 0.8422\n",
      "Epoch 4/25\n",
      "1392/1392 [==============================] - 91s 65ms/step - loss: 0.3796 - accuracy: 0.8792\n",
      "Epoch 5/25\n",
      "1392/1392 [==============================] - 115s 83ms/step - loss: 0.3052 - accuracy: 0.9083\n",
      "Epoch 6/25\n",
      "1392/1392 [==============================] - 94s 68ms/step - loss: 0.2476 - accuracy: 0.9223\n",
      "Epoch 7/25\n",
      "1392/1392 [==============================] - 88s 63ms/step - loss: 0.2234 - accuracy: 0.9320\n",
      "Epoch 8/25\n",
      "1392/1392 [==============================] - 85s 61ms/step - loss: 0.2107 - accuracy: 0.9377\n",
      "Epoch 9/25\n",
      "1392/1392 [==============================] - 96s 69ms/step - loss: 0.1721 - accuracy: 0.9458\n",
      "Epoch 10/25\n",
      "1392/1392 [==============================] - 109s 79ms/step - loss: 0.1606 - accuracy: 0.9505\n",
      "Epoch 11/25\n",
      "1392/1392 [==============================] - 82s 59ms/step - loss: 0.1548 - accuracy: 0.9506\n",
      "Epoch 12/25\n",
      "1392/1392 [==============================] - 83s 59ms/step - loss: 0.1483 - accuracy: 0.9548\n",
      "Epoch 13/25\n",
      "1392/1392 [==============================] - 75s 54ms/step - loss: 0.1440 - accuracy: 0.9567\n",
      "Epoch 14/25\n",
      "1392/1392 [==============================] - 86s 62ms/step - loss: 0.1327 - accuracy: 0.9600\n",
      "Epoch 15/25\n",
      "1392/1392 [==============================] - 91s 65ms/step - loss: 0.1244 - accuracy: 0.9618\n",
      "Epoch 16/25\n",
      "1392/1392 [==============================] - 86s 62ms/step - loss: 0.1322 - accuracy: 0.9618\n",
      "Epoch 17/25\n",
      "1392/1392 [==============================] - 86s 62ms/step - loss: 0.1239 - accuracy: 0.9632\n",
      "Epoch 18/25\n",
      "1392/1392 [==============================] - 92s 66ms/step - loss: 0.1258 - accuracy: 0.9618\n",
      "Epoch 19/25\n",
      "1392/1392 [==============================] - 97s 70ms/step - loss: 0.1075 - accuracy: 0.9679\n",
      "Epoch 20/25\n",
      "1392/1392 [==============================] - 87s 62ms/step - loss: 0.1095 - accuracy: 0.9664\n",
      "Epoch 21/25\n",
      "1392/1392 [==============================] - 87s 63ms/step - loss: 0.1071 - accuracy: 0.9700\n",
      "Epoch 22/25\n",
      "1392/1392 [==============================] - 92s 66ms/step - loss: 0.1110 - accuracy: 0.9681\n",
      "Epoch 23/25\n",
      "1392/1392 [==============================] - 85s 61ms/step - loss: 0.1097 - accuracy: 0.9674\n",
      "Epoch 24/25\n",
      "1392/1392 [==============================] - 86s 62ms/step - loss: 0.0929 - accuracy: 0.9714\n",
      "Epoch 25/25\n",
      "1392/1392 [==============================] - 87s 63ms/step - loss: 0.0940 - accuracy: 0.9735\n"
     ]
    },
    {
     "data": {
      "text/plain": [
       "<keras.callbacks.History at 0x7f84b04080d0>"
      ]
     },
     "execution_count": 36,
     "metadata": {},
     "output_type": "execute_result"
    }
   ],
   "source": [
    "model.fit_generator(dataGen.flow(features_train,target_train,batch_size=20),epochs=25)"
   ]
  },
  {
   "cell_type": "code",
   "execution_count": 37,
   "id": "0d9e017e",
   "metadata": {},
   "outputs": [],
   "source": [
    "from keras.models import model_from_json"
   ]
  },
  {
   "cell_type": "code",
   "execution_count": 41,
   "id": "1f773b9e",
   "metadata": {},
   "outputs": [
    {
     "name": "stdout",
     "output_type": "stream",
     "text": [
      "Model Saved \n"
     ]
    }
   ],
   "source": [
    "#saving model architecture\n",
    "model_json=model.to_json()\n",
    "with open(\"/home/udzi/VerzeoAITraffic.json\",\"w\") as abc:\n",
    "    abc.write(model_json)\n",
    "    abc.close()\n",
    "#we can save the weights pickle file or HDF5\n",
    "#Note:data retreval is faster as HDF5\n",
    "model.save_weights(\"/home/udzi/VerzeoAITraffic.h5\")\n",
    "print(\"Model Saved \")"
   ]
  },
  {
   "cell_type": "code",
   "execution_count": 42,
   "id": "bab704d5",
   "metadata": {},
   "outputs": [
    {
     "name": "stdout",
     "output_type": "stream",
     "text": [
      "Loaded Model Successfully \n"
     ]
    }
   ],
   "source": [
    "json_file= open(\"VerzeoAITraffic.json\",\"r\")\n",
    "loaded_model_json=json_file.read()\n",
    "json_file.close()\n",
    "loaded_model=model_from_json(loaded_model_json)\n",
    "loaded_model.load_weights(\"VerzeoAITraffic.h5\")\n",
    "print(\"Loaded Model Successfully \")"
   ]
  },
  {
   "cell_type": "code",
   "execution_count": 43,
   "id": "390b397c",
   "metadata": {},
   "outputs": [],
   "source": [
    "import numpy as np\n",
    "import cv2\n",
    "\n",
    " \n",
    "\n",
    "def getClassName(classNo):\n",
    "    if   classNo == 0: return 'Speed Limit 20 km/h'\n",
    "    elif classNo == 1: return 'Speed Limit 30 km/h'\n",
    "    elif classNo == 2: return 'Speed Limit 50 km/h'\n",
    "    elif classNo == 3: return 'Speed Limit 60 km/h'\n",
    "    elif classNo == 4: return 'Speed Limit 70 km/h'\n",
    "    elif classNo == 5: return 'Speed Limit 80 km/h'\n",
    "    elif classNo == 6: return 'End of Speed Limit 80 km/h'\n",
    "    elif classNo == 7: return 'Speed Limit 100 km/h'\n",
    "    elif classNo == 8: return 'Speed Limit 120 km/h'\n",
    "    elif classNo == 9: return 'No passing'\n",
    "    elif classNo == 10: return 'No passing for vechiles over 3.5 metric tons'\n",
    "    elif classNo == 11: return 'Right-of-way at the next intersection'\n",
    "    elif classNo == 12: return 'Priority road'\n",
    "    elif classNo == 13: return 'Yield'\n",
    "    elif classNo == 14: return 'Stop'\n",
    "    elif classNo == 15: return 'No vechiles'\n",
    "    elif classNo == 16: return 'Vechiles over 3.5 metric tons prohibited'\n",
    "    elif classNo == 17: return 'No entry'\n",
    "    elif classNo == 18: return 'General caution'\n",
    "    elif classNo == 19: return 'Dangerous curve to the left'\n",
    "    elif classNo == 20: return 'Dangerous curve to the right'\n",
    "    elif classNo == 21: return 'Double curve'\n",
    "    elif classNo == 22: return 'Bumpy road'\n",
    "    elif classNo == 23: return 'Slippery road'\n",
    "    elif classNo == 24: return 'Road narrows on the right'\n",
    "    elif classNo == 25: return 'Road work'\n",
    "    elif classNo == 26: return 'Traffic signals'\n",
    "    elif classNo == 27: return 'Pedestrians'\n",
    "    elif classNo == 28: return 'Children crossing'\n",
    "    elif classNo == 29: return 'Bicycles crossing'\n",
    "    elif classNo == 30: return 'Beware of ice/snow'\n",
    "    elif classNo == 31: return 'Wild animals crossing'\n",
    "    elif classNo == 32: return 'End of all speed and passing limits'\n",
    "    elif classNo == 33: return 'Turn right ahead'\n",
    "    elif classNo == 34: return 'Turn left ahead'\n",
    "    elif classNo == 35: return 'Ahead only'\n",
    "    elif classNo == 36: return 'Go straight or right'\n",
    "    elif classNo == 37: return 'Go straight or left'\n",
    "    elif classNo == 38: return 'Keep right'\n",
    "    elif classNo == 39: return 'Keep left'\n",
    "    elif classNo == 40: return 'Roundabout mandatory'\n",
    "    elif classNo == 41: return 'End of no passing'\n",
    "    elif classNo == 42: return 'End of no passing by vechiles over 3.5 metric tons'"
   ]
  },
  {
   "cell_type": "code",
   "execution_count": 44,
   "id": "50dfadb3",
   "metadata": {},
   "outputs": [
    {
     "data": {
      "text/plain": [
       "True"
      ]
     },
     "execution_count": 44,
     "metadata": {},
     "output_type": "execute_result"
    }
   ],
   "source": [
    "capt=cv2.VideoCapture(0)  #{number of seconds the webcam would capture}\n",
    "capt.set(8,640)   #(option, pixel value)\n",
    "capt.set(4,480)\n",
    "capt.set(10,180)"
   ]
  },
  {
   "cell_type": "code",
   "execution_count": null,
   "id": "c4591a2e",
   "metadata": {},
   "outputs": [],
   "source": [
    "while True:\n",
    "    #image=cv2.imread(\"path.png\")\n",
    "    message,image=capt.read()   \n",
    "    imagearr=np.asarray(image)\n",
    "    imagearr=cv2.resize(imagearr,(32,32))\n",
    "    imagearr=preprocessing(imagearr)\n",
    "    imagearr=imagearr.reshape(1,32,32,1)\n",
    "    predictions=loaded_model.predict(imagearr)\n",
    "    classIndex=loaded_model.predict_classes(imagearr)\n",
    "    cv2.putText(image,\"class:\",(20,35),cv2.FONT_HERSHEY_SIMPLEX,1,(0,0,255),2)\n",
    "    cv2.putText(image,\"probability:\",(20,75),cv2.FONT_HERSHEY_SIMPLEX,1,(0,0,255),2)\n",
    "    probabilityValue=np.amax(predictions)\n",
    "    if probabilityValue>0.75:\n",
    "        cv2.putText(image,getClassName(classIndex),(120,35),cv2.FONT_HERSHEY_SIMPLEX,1,(0,0,255),2)\n",
    "        cv2.putText(image,str(int(probabilityValue *100))+\" %\",(200,75),cv2.FONT_HERSHEY_SIMPLEX,1,(0,0,255),2)\n",
    "    cv2.imshow(\"Model Prediction\",image)\n",
    "    returnedValue=cv2.waitKey(1)\n",
    "    if returnedValue==ord(\"s\") or returnedValue==ord(\"S\") :\n",
    "        cv2.destroyAllWindows()\n",
    "        break\n",
    "    "
   ]
  },
  {
   "cell_type": "code",
   "execution_count": null,
   "id": "aab8f8f0",
   "metadata": {},
   "outputs": [],
   "source": [
    "#amax-gives the highest value of the array "
   ]
  },
  {
   "cell_type": "code",
   "execution_count": null,
   "id": "bd756f05",
   "metadata": {},
   "outputs": [],
   "source": []
  },
  {
   "cell_type": "code",
   "execution_count": null,
   "id": "dfed6ce2",
   "metadata": {},
   "outputs": [],
   "source": []
  },
  {
   "cell_type": "code",
   "execution_count": null,
   "id": "9f24270d",
   "metadata": {},
   "outputs": [],
   "source": []
  },
  {
   "cell_type": "code",
   "execution_count": null,
   "id": "b3e4e1ca",
   "metadata": {},
   "outputs": [],
   "source": []
  },
  {
   "cell_type": "code",
   "execution_count": null,
   "id": "dbc51212",
   "metadata": {},
   "outputs": [],
   "source": []
  }
 ],
 "metadata": {
  "kernelspec": {
   "display_name": "Python 3",
   "language": "python",
   "name": "python3"
  },
  "language_info": {
   "codemirror_mode": {
    "name": "ipython",
    "version": 3
   },
   "file_extension": ".py",
   "mimetype": "text/x-python",
   "name": "python",
   "nbconvert_exporter": "python",
   "pygments_lexer": "ipython3",
   "version": "3.8.8"
  }
 },
 "nbformat": 4,
 "nbformat_minor": 5
}
